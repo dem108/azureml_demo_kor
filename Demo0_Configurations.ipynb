{
  "cells": [
    {
      "metadata": {},
      "cell_type": "markdown",
      "source": "# Azure ML 설정 (Configuration)\n\n아래 코드는 jupyter notebook을 실행 할 때 발생하는 경고를 무시합니다."
    },
    {
      "metadata": {
        "trusted": true
      },
      "cell_type": "code",
      "source": "import sys\nimport warnings\n\nif not sys.warnoptions:\n    warnings.simplefilter(\"ignore\")",
      "execution_count": null,
      "outputs": []
    },
    {
      "metadata": {},
      "cell_type": "markdown",
      "source": "Azure Notebook에서 Azure ML을 사용하기 위해서는 Azure ML SDK를 불러와야 하며 Azure ML Workspace와의 연동이 필수입니다. Azure ML Workspace와 관련된 내용은 Azure Portal에서 쉽게 확인할 수 있습니다.\n\n![image1.png](./images/image1.png)"
    },
    {
      "metadata": {
        "trusted": true
      },
      "cell_type": "code",
      "source": "import azureml.core\nfrom azureml.core import Workspace\nprint(\"Azure ML SDK Version: \", azureml.core.VERSION)\n\nsubscription_id = '<구독 ID>'\nresource_group = '<리소스 그룹>'\nworkspace_name = '<서비스 작업 영역>'\nworkspace_region = '<위치>'\n\nws = Workspace(subscription_id = subscription_id, resource_group = resource_group, workspace_name = workspace_name)\nprint(\"Workspace Name: \", ws.name, \"\\nResouce Group: \", ws.resource_group, \"\\nRegion: \", ws.location)\n\nws.write_config()",
      "execution_count": null,
      "outputs": []
    },
    {
      "metadata": {},
      "cell_type": "markdown",
      "source": "# 실험 생성\n\n머신러닝을 사용하기 전 실험을 만들어야 하며 아래 코드의 경우 'sklearn-mpg'라고 정의하였습니다. 생성된 실험은 Azure Portal에서도 확인할 수 있습니다.\n\n![image2.png](./images/image2.png)"
    },
    {
      "metadata": {
        "trusted": true
      },
      "cell_type": "code",
      "source": "experiment_name = 'sklearn-mpg'\n\nfrom azureml.core import Experiment\nexp = Experiment(workspace = ws, name = experiment_name)",
      "execution_count": null,
      "outputs": []
    },
    {
      "metadata": {},
      "cell_type": "markdown",
      "source": "# Compute 생성\n\nAzure에서는 머신러닝 중 학습을 위해 여러가지 Compute Target을 지원합니다. \n    1. 로컬 컴퓨터 자원\n    2. AML Compute (Batch AI)\n    3. Remote VM (일반 또는 DSVM)\n    4. Azure Databricks\n    5. HD Insight\n    6. 기타 (On-prem Server, 외부 VM 등)\n\n실험과 마찬가지로 Azure ML 서비스에서 만들어진 compute resource는 Azure Portal에서 확인할 수 있습니다.\n\n![image3.png](./images/image3.png)"
    },
    {
      "metadata": {},
      "cell_type": "markdown",
      "source": "## Azure Machine Learning Compute (AmlCompute)\n\n아래의 코드는 Azure에서 머신러닝을 수행하기 위해 AmlCompute를 attach하는 작업입니다. 만약 이미 이름이 존재하는 클러스터는 자동으로 attach되며 존재하지 않는 경우 새로 생성하게 됩니다."
    },
    {
      "metadata": {
        "trusted": true
      },
      "cell_type": "code",
      "source": "from azureml.core.compute import AmlCompute, ComputeTarget\nimport os\n\ncompute_name = os.environ.get(\"AML_COMPUTE_CLUSTER_NAME\", \"CPUcluster\")\ncompute_min_nodes = os.environ.get(\"AML_COMPUTE_CLUSTER_MIN_NODES\", 0)\ncompute_max_nodes = os.environ.get(\"AML_COMPUTE_CLUSTER_MAX_NODES\", 4)\nvm_size = os.environ.get(\"AML_COMPUTE_CLUSTER_SKU\", \"STANDARD_D2_V2\")\n\nif compute_name in ws.compute_targets:\n    compute_target = ws.compute_targets[compute_name]\n    if compute_target and type(compute_target) is AmlCompute:\n        print('Found a compute target!', compute_name, 'has been attached.')\nelse:\n    print('Creating a new compute target...')\n    provisioning_config = AmlCompute.provisioning_configuration(vm_size = vm_size, \n                                                                min_nodes = compute_min_nodes, \n                                                                max_nodes = compute_max_nodes)\n    compute_target = ComputeTarget.create(ws, compute_name, provisioning_config)\n    print('Created a compute target!', compute_name, 'has been attached.')",
      "execution_count": null,
      "outputs": []
    },
    {
      "metadata": {
        "trusted": true
      },
      "cell_type": "code",
      "source": "",
      "execution_count": null,
      "outputs": []
    }
  ],
  "metadata": {
    "kernelspec": {
      "name": "python36",
      "display_name": "Python 3.6",
      "language": "python"
    },
    "language_info": {
      "mimetype": "text/x-python",
      "nbconvert_exporter": "python",
      "name": "python",
      "pygments_lexer": "ipython3",
      "version": "3.6.6",
      "file_extension": ".py",
      "codemirror_mode": {
        "version": 3,
        "name": "ipython"
      }
    }
  },
  "nbformat": 4,
  "nbformat_minor": 2
}
